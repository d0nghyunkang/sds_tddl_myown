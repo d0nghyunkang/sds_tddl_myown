{
  "nbformat": 4,
  "nbformat_minor": 0,
  "metadata": {
    "colab": {
      "name": "Exam.ipynb",
      "provenance": [],
      "collapsed_sections": [],
      "mount_file_id": "1yUxy3JTWFefkPlhMUNDQWsBYGJQy6ePj",
      "authorship_tag": "ABX9TyOS7DDRaMtdl4S2HGQ6xl4e",
      "include_colab_link": true
    },
    "kernelspec": {
      "name": "python3",
      "display_name": "Python 3"
    }
  },
  "cells": [
    {
      "cell_type": "markdown",
      "metadata": {
        "id": "view-in-github",
        "colab_type": "text"
      },
      "source": [
        "<a href=\"https://colab.research.google.com/github/theegma/sds_tddl_myown/blob/master/Exam.ipynb\" target=\"_parent\"><img src=\"https://colab.research.google.com/assets/colab-badge.svg\" alt=\"Open In Colab\"/></a>"
      ]
    },
    {
      "cell_type": "markdown",
      "metadata": {
        "id": "FK2AgT8JrlNk",
        "colab_type": "text"
      },
      "source": [
        "# Load Data"
      ]
    },
    {
      "cell_type": "code",
      "metadata": {
        "id": "5Q70zq07rBVC",
        "colab_type": "code",
        "colab": {}
      },
      "source": [
        "import pandas as pd\n",
        "import numpy as np\n",
        "import matplotlib.pyplot as plt\n",
        "%matplotlib inline"
      ],
      "execution_count": 0,
      "outputs": []
    },
    {
      "cell_type": "code",
      "metadata": {
        "id": "5K4_0VGElCYr",
        "colab_type": "code",
        "colab": {}
      },
      "source": [
        "train = pd.read_csv('drive/My Drive/Study/TextData/Exam/train.csv')\n",
        "test = pd.read_csv('drive/My Drive/Study/TextData/Exam/test.csv')"
      ],
      "execution_count": 0,
      "outputs": []
    },
    {
      "cell_type": "code",
      "metadata": {
        "id": "-LuR5LBiyDPf",
        "colab_type": "code",
        "outputId": "37d25739-91d0-4605-d330-2a573bfab1fb",
        "colab": {
          "base_uri": "https://localhost:8080/",
          "height": 437
        }
      },
      "source": [
        "print(train.info())\n",
        "print(train.columns)\n",
        "print(train.label.value_counts(normalize=True))"
      ],
      "execution_count": 0,
      "outputs": [
        {
          "output_type": "stream",
          "text": [
            "<class 'pandas.core.frame.DataFrame'>\n",
            "RangeIndex: 50000 entries, 0 to 49999\n",
            "Data columns (total 11 columns):\n",
            " #   Column      Non-Null Count  Dtype  \n",
            "---  ------      --------------  -----  \n",
            " 0   Unnamed: 0  50000 non-null  int64  \n",
            " 1   text        50000 non-null  object \n",
            " 2   headline    50000 non-null  object \n",
            " 3   rating      50000 non-null  float64\n",
            " 4   Sex         34666 non-null  object \n",
            " 5   Ethnicity   38888 non-null  object \n",
            " 6   Month       50000 non-null  object \n",
            " 7   Category    50000 non-null  object \n",
            " 8   Locality    35020 non-null  object \n",
            " 9   domain      50000 non-null  object \n",
            " 10  label       50000 non-null  int64  \n",
            "dtypes: float64(1), int64(2), object(8)\n",
            "memory usage: 4.2+ MB\n",
            "None\n",
            "Index(['Unnamed: 0', 'text', 'headline', 'rating', 'Sex', 'Ethnicity', 'Month',\n",
            "       'Category', 'Locality', 'domain', 'label'],\n",
            "      dtype='object')\n",
            "1    0.85492\n",
            "0    0.14508\n",
            "Name: label, dtype: float64\n"
          ],
          "name": "stdout"
        }
      ]
    },
    {
      "cell_type": "code",
      "metadata": {
        "id": "WHJ-mP1ErS5r",
        "colab_type": "code",
        "outputId": "23ae6d75-192f-4423-8ba6-b886db4ef3c5",
        "colab": {
          "base_uri": "https://localhost:8080/",
          "height": 906
        }
      },
      "source": [
        "train"
      ],
      "execution_count": 0,
      "outputs": [
        {
          "output_type": "execute_result",
          "data": {
            "text/html": [
              "<div>\n",
              "<style scoped>\n",
              "    .dataframe tbody tr th:only-of-type {\n",
              "        vertical-align: middle;\n",
              "    }\n",
              "\n",
              "    .dataframe tbody tr th {\n",
              "        vertical-align: top;\n",
              "    }\n",
              "\n",
              "    .dataframe thead th {\n",
              "        text-align: right;\n",
              "    }\n",
              "</style>\n",
              "<table border=\"1\" class=\"dataframe\">\n",
              "  <thead>\n",
              "    <tr style=\"text-align: right;\">\n",
              "      <th></th>\n",
              "      <th>Unnamed: 0</th>\n",
              "      <th>text</th>\n",
              "      <th>headline</th>\n",
              "      <th>rating</th>\n",
              "      <th>Sex</th>\n",
              "      <th>Ethnicity</th>\n",
              "      <th>Month</th>\n",
              "      <th>Category</th>\n",
              "      <th>Locality</th>\n",
              "      <th>domain</th>\n",
              "      <th>label</th>\n",
              "    </tr>\n",
              "  </thead>\n",
              "  <tbody>\n",
              "    <tr>\n",
              "      <th>0</th>\n",
              "      <td>19769</td>\n",
              "      <td>I paid for indoor parking and when I arrived n...</td>\n",
              "      <td>I paid for indoor parking...</td>\n",
              "      <td>2.0</td>\n",
              "      <td>male</td>\n",
              "      <td>European</td>\n",
              "      <td>2018-06-01</td>\n",
              "      <td>travel_holidays</td>\n",
              "      <td>San Leandro</td>\n",
              "      <td>https://trustpilot.com/review/www.expressopark...</td>\n",
              "      <td>0</td>\n",
              "    </tr>\n",
              "    <tr>\n",
              "      <th>1</th>\n",
              "      <td>127049</td>\n",
              "      <td>Part's were easy to find and great information...</td>\n",
              "      <td>easy to find and order parts with great inform...</td>\n",
              "      <td>5.0</td>\n",
              "      <td>male</td>\n",
              "      <td>European</td>\n",
              "      <td>2016-05-01</td>\n",
              "      <td>transportation</td>\n",
              "      <td>Marlton</td>\n",
              "      <td>https://trustpilot.com/review/www.partsgeek.com</td>\n",
              "      <td>1</td>\n",
              "    </tr>\n",
              "    <tr>\n",
              "      <th>2</th>\n",
              "      <td>211740</td>\n",
              "      <td>We had a shipping error and Legacy Headstones ...</td>\n",
              "      <td>Excellent customer service and quality products!!</td>\n",
              "      <td>5.0</td>\n",
              "      <td>male</td>\n",
              "      <td>European</td>\n",
              "      <td>2017-06-01</td>\n",
              "      <td>companies</td>\n",
              "      <td>East Liverpool, OH 43920</td>\n",
              "      <td>https://trustpilot.com/review/legacyheadstones...</td>\n",
              "      <td>1</td>\n",
              "    </tr>\n",
              "    <tr>\n",
              "      <th>3</th>\n",
              "      <td>116665</td>\n",
              "      <td>Prices are great and service too keep up the g...</td>\n",
              "      <td>Prices are great and service too keep …</td>\n",
              "      <td>4.0</td>\n",
              "      <td>NaN</td>\n",
              "      <td>NaN</td>\n",
              "      <td>2017-06-01</td>\n",
              "      <td>travel_holidays</td>\n",
              "      <td>NaN</td>\n",
              "      <td>https://trustpilot.com/review/justfly.com</td>\n",
              "      <td>1</td>\n",
              "    </tr>\n",
              "    <tr>\n",
              "      <th>4</th>\n",
              "      <td>19867</td>\n",
              "      <td>this is a great site and easy to use. I like t...</td>\n",
              "      <td>great site, easy to use</td>\n",
              "      <td>4.0</td>\n",
              "      <td>female</td>\n",
              "      <td>European</td>\n",
              "      <td>2016-08-01</td>\n",
              "      <td>travel_holidays</td>\n",
              "      <td>NaN</td>\n",
              "      <td>https://trustpilot.com/review/justfly.com</td>\n",
              "      <td>1</td>\n",
              "    </tr>\n",
              "    <tr>\n",
              "      <th>...</th>\n",
              "      <td>...</td>\n",
              "      <td>...</td>\n",
              "      <td>...</td>\n",
              "      <td>...</td>\n",
              "      <td>...</td>\n",
              "      <td>...</td>\n",
              "      <td>...</td>\n",
              "      <td>...</td>\n",
              "      <td>...</td>\n",
              "      <td>...</td>\n",
              "      <td>...</td>\n",
              "    </tr>\n",
              "    <tr>\n",
              "      <th>49995</th>\n",
              "      <td>89877</td>\n",
              "      <td>Looking forward to do more business in the future</td>\n",
              "      <td>Excellent service</td>\n",
              "      <td>5.0</td>\n",
              "      <td>NaN</td>\n",
              "      <td>NaN</td>\n",
              "      <td>2015-10-01</td>\n",
              "      <td>transportation</td>\n",
              "      <td>Tempe</td>\n",
              "      <td>https://trustpilot.com/review/autoequipmentdep...</td>\n",
              "      <td>1</td>\n",
              "    </tr>\n",
              "    <tr>\n",
              "      <th>49996</th>\n",
              "      <td>208633</td>\n",
              "      <td>I ordered business cards, New name tag and a P...</td>\n",
              "      <td>I ordered business cards</td>\n",
              "      <td>5.0</td>\n",
              "      <td>female</td>\n",
              "      <td>European</td>\n",
              "      <td>2017-08-01</td>\n",
              "      <td>companies</td>\n",
              "      <td>Norwood, MA</td>\n",
              "      <td>https://trustpilot.com/review/bestprintbuy.com</td>\n",
              "      <td>1</td>\n",
              "    </tr>\n",
              "    <tr>\n",
              "      <th>49997</th>\n",
              "      <td>177975</td>\n",
              "      <td>TherapyNotes is an every growing program.  The...</td>\n",
              "      <td>Making notes simple</td>\n",
              "      <td>5.0</td>\n",
              "      <td>female</td>\n",
              "      <td>European</td>\n",
              "      <td>2015-10-01</td>\n",
              "      <td>computer</td>\n",
              "      <td>Horsham, PA</td>\n",
              "      <td>https://trustpilot.com/review/therapynotes.com</td>\n",
              "      <td>1</td>\n",
              "    </tr>\n",
              "    <tr>\n",
              "      <th>49998</th>\n",
              "      <td>81323</td>\n",
              "      <td>My experience was great from start to finish. ...</td>\n",
              "      <td>Transformed my Resume!!</td>\n",
              "      <td>5.0</td>\n",
              "      <td>male</td>\n",
              "      <td>European</td>\n",
              "      <td>2016-06-01</td>\n",
              "      <td>other</td>\n",
              "      <td>NaN</td>\n",
              "      <td>https://trustpilot.com/review/topresume.com</td>\n",
              "      <td>1</td>\n",
              "    </tr>\n",
              "    <tr>\n",
              "      <th>49999</th>\n",
              "      <td>36058</td>\n",
              "      <td>I ordered multiple pre-assembled tissue paper ...</td>\n",
              "      <td>Tissue Paper Tassels</td>\n",
              "      <td>2.0</td>\n",
              "      <td>female</td>\n",
              "      <td>European</td>\n",
              "      <td>2018-04-01</td>\n",
              "      <td>leisure</td>\n",
              "      <td>Redwood City</td>\n",
              "      <td>https://trustpilot.com/review/www.lunabazaar.com</td>\n",
              "      <td>0</td>\n",
              "    </tr>\n",
              "  </tbody>\n",
              "</table>\n",
              "<p>50000 rows × 11 columns</p>\n",
              "</div>"
            ],
            "text/plain": [
              "       Unnamed: 0  ... label\n",
              "0           19769  ...     0\n",
              "1          127049  ...     1\n",
              "2          211740  ...     1\n",
              "3          116665  ...     1\n",
              "4           19867  ...     1\n",
              "...           ...  ...   ...\n",
              "49995       89877  ...     1\n",
              "49996      208633  ...     1\n",
              "49997      177975  ...     1\n",
              "49998       81323  ...     1\n",
              "49999       36058  ...     0\n",
              "\n",
              "[50000 rows x 11 columns]"
            ]
          },
          "metadata": {
            "tags": []
          },
          "execution_count": 6
        }
      ]
    },
    {
      "cell_type": "code",
      "metadata": {
        "id": "JCSG5SwJrT7j",
        "colab_type": "code",
        "outputId": "35828a3c-f732-40c3-e07f-84ea14b6f172",
        "colab": {
          "base_uri": "https://localhost:8080/",
          "height": 889
        }
      },
      "source": [
        "test"
      ],
      "execution_count": 0,
      "outputs": [
        {
          "output_type": "execute_result",
          "data": {
            "text/html": [
              "<div>\n",
              "<style scoped>\n",
              "    .dataframe tbody tr th:only-of-type {\n",
              "        vertical-align: middle;\n",
              "    }\n",
              "\n",
              "    .dataframe tbody tr th {\n",
              "        vertical-align: top;\n",
              "    }\n",
              "\n",
              "    .dataframe thead th {\n",
              "        text-align: right;\n",
              "    }\n",
              "</style>\n",
              "<table border=\"1\" class=\"dataframe\">\n",
              "  <thead>\n",
              "    <tr style=\"text-align: right;\">\n",
              "      <th></th>\n",
              "      <th>Unnamed: 0</th>\n",
              "      <th>text</th>\n",
              "      <th>headline</th>\n",
              "      <th>rating</th>\n",
              "      <th>Sex</th>\n",
              "      <th>Ethnicity</th>\n",
              "      <th>Month</th>\n",
              "      <th>Category</th>\n",
              "      <th>Locality</th>\n",
              "      <th>domain</th>\n",
              "      <th>label</th>\n",
              "    </tr>\n",
              "  </thead>\n",
              "  <tbody>\n",
              "    <tr>\n",
              "      <th>0</th>\n",
              "      <td>188547</td>\n",
              "      <td>Express Medical Supply had the product I neede...</td>\n",
              "      <td>As advertised</td>\n",
              "      <td>5.0</td>\n",
              "      <td>female</td>\n",
              "      <td>European</td>\n",
              "      <td>2013-10-01</td>\n",
              "      <td>health_wellbeing</td>\n",
              "      <td>Fenton</td>\n",
              "      <td>https://trustpilot.com/review/www.exmed.net</td>\n",
              "      <td>1</td>\n",
              "    </tr>\n",
              "    <tr>\n",
              "      <th>1</th>\n",
              "      <td>100030</td>\n",
              "      <td>i ordered about 6 books and they all came very...</td>\n",
              "      <td>amazing!!</td>\n",
              "      <td>5.0</td>\n",
              "      <td>NaN</td>\n",
              "      <td>European</td>\n",
              "      <td>2017-02-01</td>\n",
              "      <td>entertainment</td>\n",
              "      <td>Tukwila</td>\n",
              "      <td>https://trustpilot.com/review/www.thriftbooks.com</td>\n",
              "      <td>1</td>\n",
              "    </tr>\n",
              "    <tr>\n",
              "      <th>2</th>\n",
              "      <td>167232</td>\n",
              "      <td>I've always found 777 to be courteous and reli...</td>\n",
              "      <td>I've always found 777 to be courteous…</td>\n",
              "      <td>5.0</td>\n",
              "      <td>female</td>\n",
              "      <td>EastAsian</td>\n",
              "      <td>2018-06-01</td>\n",
              "      <td>transportation</td>\n",
              "      <td>Long Island City, NY</td>\n",
              "      <td>https://trustpilot.com/review/dial7.com</td>\n",
              "      <td>1</td>\n",
              "    </tr>\n",
              "    <tr>\n",
              "      <th>3</th>\n",
              "      <td>38533</td>\n",
              "      <td>Had windows vista.. ordered windows 7 and inst...</td>\n",
              "      <td>purchase of windows 7</td>\n",
              "      <td>5.0</td>\n",
              "      <td>male</td>\n",
              "      <td>European</td>\n",
              "      <td>2015-08-01</td>\n",
              "      <td>entertainment</td>\n",
              "      <td>NaN</td>\n",
              "      <td>https://trustpilot.com/review/www.mmoga.com</td>\n",
              "      <td>1</td>\n",
              "    </tr>\n",
              "    <tr>\n",
              "      <th>4</th>\n",
              "      <td>42494</td>\n",
              "      <td>I would recommend Money Lion to anyone who has...</td>\n",
              "      <td>I would recommend Money Lion to anyone…</td>\n",
              "      <td>5.0</td>\n",
              "      <td>female</td>\n",
              "      <td>European</td>\n",
              "      <td>2018-03-01</td>\n",
              "      <td>money</td>\n",
              "      <td>Sandy, UT 84091</td>\n",
              "      <td>https://trustpilot.com/review/moneylion.com</td>\n",
              "      <td>1</td>\n",
              "    </tr>\n",
              "    <tr>\n",
              "      <th>...</th>\n",
              "      <td>...</td>\n",
              "      <td>...</td>\n",
              "      <td>...</td>\n",
              "      <td>...</td>\n",
              "      <td>...</td>\n",
              "      <td>...</td>\n",
              "      <td>...</td>\n",
              "      <td>...</td>\n",
              "      <td>...</td>\n",
              "      <td>...</td>\n",
              "      <td>...</td>\n",
              "    </tr>\n",
              "    <tr>\n",
              "      <th>199995</th>\n",
              "      <td>109228</td>\n",
              "      <td>I was extremely disappointed about 3 things. F...</td>\n",
              "      <td>Stay away !!!!!!!!!!!!</td>\n",
              "      <td>1.0</td>\n",
              "      <td>male</td>\n",
              "      <td>European</td>\n",
              "      <td>2013-06-01</td>\n",
              "      <td>travel_holidays</td>\n",
              "      <td>NaN</td>\n",
              "      <td>https://trustpilot.com/review/bookit.com</td>\n",
              "      <td>0</td>\n",
              "    </tr>\n",
              "    <tr>\n",
              "      <th>199996</th>\n",
              "      <td>50483</td>\n",
              "      <td>GOOD SERVICE ON PHONE, SUFFICIENT STOCK ON HAN...</td>\n",
              "      <td>PART ORDER</td>\n",
              "      <td>5.0</td>\n",
              "      <td>male</td>\n",
              "      <td>European</td>\n",
              "      <td>2017-03-01</td>\n",
              "      <td>food_beverage</td>\n",
              "      <td>Addison, IL</td>\n",
              "      <td>https://trustpilot.com/review/partstown.com</td>\n",
              "      <td>1</td>\n",
              "    </tr>\n",
              "    <tr>\n",
              "      <th>199997</th>\n",
              "      <td>174623</td>\n",
              "      <td>Quick checkout and great prices, wish the adde...</td>\n",
              "      <td>Quick checkout and great prices</td>\n",
              "      <td>4.0</td>\n",
              "      <td>male</td>\n",
              "      <td>European</td>\n",
              "      <td>2018-05-01</td>\n",
              "      <td>travel_holidays</td>\n",
              "      <td>NaN</td>\n",
              "      <td>https://trustpilot.com/review/justfly.com</td>\n",
              "      <td>1</td>\n",
              "    </tr>\n",
              "    <tr>\n",
              "      <th>199998</th>\n",
              "      <td>181693</td>\n",
              "      <td>My custom pens are absolutely beautiful!  As a...</td>\n",
              "      <td>Absolutely Beautiful!</td>\n",
              "      <td>5.0</td>\n",
              "      <td>female</td>\n",
              "      <td>European</td>\n",
              "      <td>2017-02-01</td>\n",
              "      <td>companies</td>\n",
              "      <td>Shelbyville, TN</td>\n",
              "      <td>https://trustpilot.com/review/www.pens.com</td>\n",
              "      <td>1</td>\n",
              "    </tr>\n",
              "    <tr>\n",
              "      <th>199999</th>\n",
              "      <td>50054</td>\n",
              "      <td>The mugs I ordered were great. Very easy to ma...</td>\n",
              "      <td>Exceeded expectations</td>\n",
              "      <td>5.0</td>\n",
              "      <td>female</td>\n",
              "      <td>European</td>\n",
              "      <td>2016-12-01</td>\n",
              "      <td>clothes_fashion</td>\n",
              "      <td>NaN</td>\n",
              "      <td>https://trustpilot.com/review/www.cafepress.com</td>\n",
              "      <td>1</td>\n",
              "    </tr>\n",
              "  </tbody>\n",
              "</table>\n",
              "<p>200000 rows × 11 columns</p>\n",
              "</div>"
            ],
            "text/plain": [
              "        Unnamed: 0  ... label\n",
              "0           188547  ...     1\n",
              "1           100030  ...     1\n",
              "2           167232  ...     1\n",
              "3            38533  ...     1\n",
              "4            42494  ...     1\n",
              "...            ...  ...   ...\n",
              "199995      109228  ...     0\n",
              "199996       50483  ...     1\n",
              "199997      174623  ...     1\n",
              "199998      181693  ...     1\n",
              "199999       50054  ...     1\n",
              "\n",
              "[200000 rows x 11 columns]"
            ]
          },
          "metadata": {
            "tags": []
          },
          "execution_count": 7
        }
      ]
    },
    {
      "cell_type": "markdown",
      "metadata": {
        "id": "PrfsTJ86rorD",
        "colab_type": "text"
      },
      "source": [
        "#1 \n",
        "\n",
        "1. Train a bag of words based classifier to predict the label column (use train.csv). \n",
        "  - **I quote a code from Snorre's!!**, which uses CountVectorizer with 1-3 grams.\n",
        "2. Estimate proportions using the Classify&Count method on the test set (test.csv) for each group defined by the metadata columns. \n",
        "3. Report the proportional classification error of each metadata column and conclude which has the largest proportional bias.\n"
      ]
    },
    {
      "cell_type": "code",
      "metadata": {
        "id": "dekmDdbero5z",
        "colab_type": "code",
        "colab": {}
      },
      "source": [
        "# 1. Train a bag of words based classifier to predict the label column (use train.csv). "
      ],
      "execution_count": 0,
      "outputs": []
    },
    {
      "cell_type": "code",
      "metadata": {
        "colab_type": "code",
        "id": "7I9tK-10Xplt",
        "colab": {}
      },
      "source": [
        "## Download script for searching the hyperparameters with bayesian optimization using the hyperopt package.\n",
        "import requests\n",
        "with open('get_bow_baseline.py','w') as f:\n",
        "    f.write(requests.get('https://raw.githubusercontent.com/snorreralund/test_tokenization/master/get_bow_baseline.py').text)\n",
        "f.close()"
      ],
      "execution_count": 0,
      "outputs": []
    },
    {
      "cell_type": "code",
      "metadata": {
        "colab_type": "code",
        "id": "mBIUbh7iXXqQ",
        "outputId": "023b6056-a6dd-431e-f43c-cfc3a92e5844",
        "colab": {
          "base_uri": "https://localhost:8080/",
          "height": 50
        }
      },
      "source": [
        "import get_bow_baseline as baseline\n",
        "baseline = baseline.TokenizationTest(train,test,MAX_EVALS=10,scoring_function='accuracy_score',y_col='label',text_col='text')\n",
        "import warnings; warnings.simplefilter('ignore')\n",
        "import nltk\n",
        "tokenizer = nltk.tokenize.TweetTokenizer().tokenize\n",
        "baseline.evaluate('nltk_tweet',tokenizer)"
      ],
      "execution_count": 0,
      "outputs": [
        {
          "output_type": "stream",
          "text": [
            "100%|██████████| 10/10 [01:45<00:00, 10.53s/it, best loss: 0.08423111111111103]\n",
            "Final accuracy and roc_auc score of tokenizer (nltk_tweet) + nb_log: 0.933 and 0.957\n"
          ],
          "name": "stdout"
        }
      ]
    },
    {
      "cell_type": "code",
      "metadata": {
        "colab_type": "code",
        "id": "SwI5cCvTXsWu",
        "outputId": "c02c25dc-2da4-483a-e14c-9ae82ad4aeb6",
        "colab": {
          "base_uri": "https://localhost:8080/",
          "height": 50
        }
      },
      "source": [
        "%time y_pred = baseline.predict(test.text.values)\n",
        "test['bow_prob'] = y_pred[:,1]\n",
        "test['bow_pred'] = (test.bow_prob > 0.5).astype(int)"
      ],
      "execution_count": 0,
      "outputs": [
        {
          "output_type": "stream",
          "text": [
            "CPU times: user 4.42 s, sys: 9.95 ms, total: 4.43 s\n",
            "Wall time: 4.43 s\n"
          ],
          "name": "stdout"
        }
      ]
    },
    {
      "cell_type": "code",
      "metadata": {
        "id": "6fgUXFCXXEtv",
        "colab_type": "code",
        "outputId": "2986cf7a-1080-498a-cf66-347bc7529007",
        "colab": {
          "base_uri": "https://localhost:8080/",
          "height": 1000
        }
      },
      "source": [
        "print(test['bow_prob'])\n",
        "print(test['bow_pred'])\n",
        "\n",
        "meta_cols = ['Sex', 'Ethnicity', 'Category', 'Locality', 'domain']\n",
        "meta_cols_sub = ['Sex', 'Ethnicity', 'Category']\n",
        "\n",
        "import seaborn as sns\n",
        "\n",
        "for c in meta_cols_sub:\n",
        "  train_classfreq = train[c].value_counts(normalize=True)\n",
        "  test_classfreq = test[c].value_counts(normalize=True)\n",
        "  print(\"**Class freq in train**\\n\",train_classfreq, \"**Class freq in test**\\n\" , test_classfreq)\n",
        "  sns.catplot(x=c, kind=\"count\", data=train)\n",
        "  sns.catplot(x=c, kind=\"count\", data=test)\n",
        "\n",
        "  plt.show()\n"
      ],
      "execution_count": 0,
      "outputs": [
        {
          "output_type": "stream",
          "text": [
            "0         0.997237\n",
            "1         0.990303\n",
            "2         0.983785\n",
            "3         0.959918\n",
            "4         0.998000\n",
            "            ...   \n",
            "199995    0.000092\n",
            "199996    0.997678\n",
            "199997    0.994025\n",
            "199998    0.999998\n",
            "199999    0.988076\n",
            "Name: bow_prob, Length: 200000, dtype: float64\n",
            "0         1\n",
            "1         1\n",
            "2         1\n",
            "3         1\n",
            "4         1\n",
            "         ..\n",
            "199995    0\n",
            "199996    1\n",
            "199997    1\n",
            "199998    1\n",
            "199999    1\n",
            "Name: bow_pred, Length: 200000, dtype: int64\n",
            "**Class freq in train**\n",
            " male      0.540962\n",
            "female    0.459038\n",
            "Name: Sex, dtype: float64 **Class freq in test**\n",
            " male      0.543224\n",
            "female    0.456776\n",
            "Name: Sex, dtype: float64\n"
          ],
          "name": "stdout"
        },
        {
          "output_type": "display_data",
          "data": {
            "image/png": "[encoded data removed]",
            "text/plain": [
              "<Figure size 360x360 with 1 Axes>"
            ]
          },
          "metadata": {
            "tags": [],
            "needs_background": "light"
          }
        },
        {
          "output_type": "display_data",
          "data": {
            "image/png": "[encoded data removed]",
            "text/plain": [
              "<Figure size 360x360 with 1 Axes>"
            ]
          },
          "metadata": {
            "tags": [],
            "needs_background": "light"
          }
        },
        {
          "output_type": "stream",
          "text": [
            "**Class freq in train**\n",
            " European      0.821616\n",
            "Hispanic      0.100597\n",
            "EastAsian     0.022063\n",
            "SouthAsian    0.021523\n",
            "Muslim        0.014246\n",
            "African       0.013449\n",
            "Greek         0.005914\n",
            "Jewish        0.000591\n",
            "Name: Ethnicity, dtype: float64 **Class freq in test**\n",
            " European      0.824810\n",
            "Hispanic      0.100657\n",
            "EastAsian     0.021429\n",
            "SouthAsian    0.021164\n",
            "African       0.013378\n",
            "Muslim        0.012940\n",
            "Greek         0.005166\n",
            "Jewish        0.000457\n",
            "Name: Ethnicity, dtype: float64\n"
          ],
          "name": "stdout"
        },
        {
          "output_type": "display_data",
          "data": {
            "image/png": "[encoded data removed]",
            "text/plain": [
              "<Figure size 360x360 with 1 Axes>"
            ]
          },
          "metadata": {
            "tags": [],
            "needs_background": "light"
          }
        },
        {
          "output_type": "display_data",
          "data": {
            "image/png": "[encoded data removed]",
            "text/plain": [
              "<Figure size 360x360 with 1 Axes>"
            ]
          },
          "metadata": {
            "tags": [],
            "needs_background": "light"
          }
        },
        {
          "output_type": "stream",
          "text": [
            "**Class freq in train**\n",
            " travel_holidays     0.14652\n",
            "home_garden         0.11846\n",
            "clothes_fashion     0.11316\n",
            "transportation      0.10312\n",
            "health_wellbeing    0.07732\n",
            "money               0.07430\n",
            "entertainment       0.06588\n",
            "leisure             0.06186\n",
            "companies           0.03776\n",
            "electronics         0.03738\n",
            "computer            0.02736\n",
            "food_beverage       0.02530\n",
            "other               0.02404\n",
            "sport               0.01880\n",
            "art                 0.01728\n",
            "mobile_internet     0.01290\n",
            "craftsman           0.01150\n",
            "online_services     0.00982\n",
            "public_services     0.00568\n",
            "tobacco-products    0.00322\n",
            "legal_services      0.00284\n",
            "cloud_computing     0.00160\n",
            "kids                0.00154\n",
            "erotic              0.00114\n",
            "animals_and_pets    0.00060\n",
            "gambling            0.00048\n",
            "utilities           0.00014\n",
            "Name: Category, dtype: float64 **Class freq in test**\n",
            " travel_holidays     0.143830\n",
            "home_garden         0.120415\n",
            "clothes_fashion     0.111670\n",
            "transportation      0.104515\n",
            "health_wellbeing    0.076670\n",
            "money               0.072845\n",
            "entertainment       0.068665\n",
            "leisure             0.062085\n",
            "companies           0.038575\n",
            "electronics         0.037715\n",
            "computer            0.028710\n",
            "food_beverage       0.025480\n",
            "other               0.022210\n",
            "sport               0.019450\n",
            "art                 0.017300\n",
            "mobile_internet     0.012545\n",
            "craftsman           0.011680\n",
            "online_services     0.009905\n",
            "public_services     0.005155\n",
            "tobacco-products    0.002810\n",
            "legal_services      0.002515\n",
            "cloud_computing     0.001600\n",
            "kids                0.001420\n",
            "erotic              0.001125\n",
            "gambling            0.000610\n",
            "animals_and_pets    0.000425\n",
            "utilities           0.000075\n",
            "Name: Category, dtype: float64\n"
          ],
          "name": "stdout"
        },
        {
          "output_type": "display_data",
          "data": {
            "image/png": "[encoded data removed]",
            "text/plain": [
              "<Figure size 360x360 with 1 Axes>"
            ]
          },
          "metadata": {
            "tags": [],
            "needs_background": "light"
          }
        },
        {
          "output_type": "display_data",
          "data": {
            "image/png": "[encoded data removed]",
            "text/plain": [
              "<Figure size 360x360 with 1 Axes>"
            ]
          },
          "metadata": {
            "tags": [],
            "needs_background": "light"
          }
        }
      ]
    },
    {
      "cell_type": "code",
      "metadata": {
        "id": "Jy4uT2QNtGjF",
        "colab_type": "code",
        "outputId": "c8910de1-636f-4f4b-d204-d5caf19315e2",
        "colab": {
          "base_uri": "https://localhost:8080/",
          "height": 588
        }
      },
      "source": [
        "# 2. Estimate proportions using the Classify & Count method on the test set (test.csv) for each group defined by the metadata columns. \n",
        "\n",
        "\n",
        "# from sklearn.metrics import confusion_matrix\n",
        "from tensorflow.keras.metrics import TruePositives, FalsePositives, TrueNegatives, FalseNegatives\n",
        "import tensorflow as tf\n",
        "\n",
        "## Estimate diffential bias. \n",
        "meta_cols = ['Sex', 'Ethnicity', 'Category', 'Locality', 'domain']\n",
        "\n",
        "dat = []\n",
        "for c in meta_cols:\n",
        "  train_unique_cat_in_col = train[c].unique()\n",
        "  test_unique_cat_in_col = test[c].unique()\n",
        "  print(\"List of unique categories in train vs. test:\", train_unique_cat_in_col, test_unique_cat_in_col)\n",
        "  print(\"Num of unique categories in train vs. test::\", len(train_unique_cat_in_col), len(test_unique_cat_in_col))\n",
        "    # Remark: 'Locality', 'domain' has A LOT more of unique categories (wrt train vs. test)\n",
        "\n",
        "  for u in test_unique_cat_in_col:\n",
        "    tempdf = test[test[c]==u] # To reduce the size during the loop\n",
        "    # Remove groups if n_train is too small\n",
        "    if len(tempdf)<50:\n",
        "      continue \n",
        "  \n",
        "    # This part is from my previous assignment.\n",
        "    tp, fp = tf.keras.metrics.TruePositives(), tf.keras.metrics.FalsePositives()\n",
        "    tn, fn = tf.keras.metrics.TrueNegatives(), tf.keras.metrics.FalseNegatives()\n",
        "    tp.update_state(y_true = tempdf['label'], y_pred = tempdf['bow_pred'])\n",
        "    fp.update_state(y_true = tempdf['label'], y_pred = tempdf['bow_pred'])\n",
        "    tn.update_state(y_true = tempdf['label'], y_pred = tempdf['bow_pred'])\n",
        "    fn.update_state(y_true = tempdf['label'], y_pred = tempdf['bow_pred'])\n",
        "    tp, fp = tp.result().numpy(), fp.result().numpy()\n",
        "    tn, fn = tn.result().numpy(), fn.result().numpy()\n",
        "    n = len(tempdf)\n",
        "\n",
        "    pos_pred = fp + tp\n",
        "    prop_pred = pos_pred/n\n",
        "\n",
        "    # Compute true proportions\n",
        "    pos_true = tp + fn\n",
        "    neg_true = tn + fp\n",
        "    prop_true = pos_true/n\n",
        "\n",
        "    n_train = len(train[train[c]==u])\n",
        "\n",
        "    d = {'meta_col':c, 'class_in_meta_col':u,\n",
        "         'tp':tp,'fp':fp,'tn':tn,'fn':fn,'n':len(tempdf),\n",
        "         'pos':pos_true,'neg':neg_true,\n",
        "         'n_train': n_train}\n",
        "    dat.append(d)\n",
        "diff_bias = pd.DataFrame(dat).dropna().reset_index(drop=True)"
      ],
      "execution_count": 0,
      "outputs": [
        {
          "output_type": "stream",
          "text": [
            "List of unique categories in train vs. test: ['male' nan 'female'] ['female' nan 'male']\n",
            "Num of unique categories in train vs. test:: 3 3\n",
            "List of unique categories in train vs. test: ['European' nan 'EastAsian' 'SouthAsian' 'Hispanic' 'African' 'Greek'\n",
            " 'Muslim' 'Jewish'] ['European' 'EastAsian' 'Muslim' 'Hispanic' nan 'SouthAsian' 'African'\n",
            " 'Greek' 'Jewish']\n",
            "Num of unique categories in train vs. test:: 9 9\n",
            "List of unique categories in train vs. test: ['travel_holidays' 'transportation' 'companies' 'leisure' 'craftsman'\n",
            " 'clothes_fashion' 'money' 'entertainment' 'health_wellbeing'\n",
            " 'mobile_internet' 'public_services' 'food_beverage' 'home_garden'\n",
            " 'cloud_computing' 'online_services' 'kids' 'sport' 'other' 'art'\n",
            " 'electronics' 'tobacco-products' 'computer' 'erotic' 'legal_services'\n",
            " 'utilities' 'animals_and_pets' 'gambling'] ['health_wellbeing' 'entertainment' 'transportation' 'money' 'sport'\n",
            " 'travel_holidays' 'clothes_fashion' 'leisure' 'other' 'computer'\n",
            " 'companies' 'home_garden' 'mobile_internet' 'food_beverage'\n",
            " 'online_services' 'tobacco-products' 'electronics' 'art' 'gambling'\n",
            " 'craftsman' 'public_services' 'cloud_computing' 'legal_services' 'kids'\n",
            " 'erotic' 'animals_and_pets' 'utilities']\n",
            "Num of unique categories in train vs. test:: 27 27\n",
            "List of unique categories in train vs. test: ['San Leandro' 'Marlton' 'East Liverpool, OH 43920' ... 'South Lyon, MI'\n",
            " 'Huntersville' 'Mission'] ['Fenton' 'Tukwila' 'Long Island City, NY' ... 'Lambertville, NJ'\n",
            " 'Beverly, Massachusetts 01915' 'Milton Keynes']\n",
            "Num of unique categories in train vs. test:: 1322 1702\n",
            "List of unique categories in train vs. test: ['https://trustpilot.com/review/www.expressoparking.com'\n",
            " 'https://trustpilot.com/review/www.partsgeek.com'\n",
            " 'https://trustpilot.com/review/legacyheadstones.com' ...\n",
            " 'https://trustpilot.com/review/www.swiss.com'\n",
            " 'https://trustpilot.com/review/workable.com'\n",
            " 'https://trustpilot.com/review/autoequipmentdepot.com'] ['https://trustpilot.com/review/www.exmed.net'\n",
            " 'https://trustpilot.com/review/www.thriftbooks.com'\n",
            " 'https://trustpilot.com/review/dial7.com' ...\n",
            " 'https://trustpilot.com/review/www.d2moto.com'\n",
            " 'https://trustpilot.com/review/www.aboutassignment.com'\n",
            " 'https://trustpilot.com/review/carpetonefloorandhomerapidcity.com']\n",
            "Num of unique categories in train vs. test:: 3524 5144\n"
          ],
          "name": "stdout"
        }
      ]
    },
    {
      "cell_type": "code",
      "metadata": {
        "id": "U4xp-rffIVE7",
        "colab_type": "code",
        "colab": {}
      },
      "source": [
        "# Repository\n",
        "\n",
        "    # tn, fp, fn, tp = confusion_matrix(tempdf['label'], tempdf['bow_pred'], labels=[0,1]).ravel()\n",
        "      # Doesn't work \"ValueError: At least one label specified must be in y_true\" -- I guess it's because it's non-existent\n",
        "\n",
        "\n",
        "    # pos_pred = tempdf['bow_pred'].sum()\n",
        "    # n = len(tempdf)\n",
        "    # pos_true = tempdf['label'].sum()\n",
        "\n",
        "    # print(\"Proportion for unique class '{}' in meta column '{}':\".format(u,c), \"%6.4f vs. %6.4f (True vs. Pred)\" %(prop_true, prop_pred))\n"
      ],
      "execution_count": 0,
      "outputs": []
    },
    {
      "cell_type": "code",
      "metadata": {
        "id": "U-LQKi7XtGoz",
        "colab_type": "code",
        "outputId": "d5353d41-fb62-44e9-980e-c4ce8fbb6acb",
        "colab": {
          "base_uri": "https://localhost:8080/",
          "height": 422
        }
      },
      "source": [
        "# 3. Report the proportional classification error of each metadata column and conclude which has the largest proportional bias.\n",
        "\n",
        "diff_bias['proportional_error_abs'] = diff_bias.pos-(diff_bias.tp+diff_bias.fp)\n",
        "diff_bias['proportional_error_p'] = (diff_bias.pos-(diff_bias.tp+diff_bias.fp))/diff_bias.pos\n",
        "diff_bias['clf_pos_freq'] = (diff_bias.tp+diff_bias.fp) / diff_bias.n\n",
        "diff_bias['pos_freq'] = diff_bias['pos']/diff_bias.n\n",
        "diff_bias['proportional_error_freq'] = diff_bias['pos_freq'] - diff_bias['clf_pos_freq']\n",
        "\n",
        "## Sort groups by highest proportional error\n",
        "diff_bias.sort_values('proportional_error_p')[['meta_col','class_in_meta_col','pos','neg','pos_freq','clf_pos_freq', 'proportional_error_freq','proportional_error_abs','proportional_error_p']]"
      ],
      "execution_count": 0,
      "outputs": [
        {
          "output_type": "execute_result",
          "data": {
            "text/html": [
              "<div>\n",
              "<style scoped>\n",
              "    .dataframe tbody tr th:only-of-type {\n",
              "        vertical-align: middle;\n",
              "    }\n",
              "\n",
              "    .dataframe tbody tr th {\n",
              "        vertical-align: top;\n",
              "    }\n",
              "\n",
              "    .dataframe thead th {\n",
              "        text-align: right;\n",
              "    }\n",
              "</style>\n",
              "<table border=\"1\" class=\"dataframe\">\n",
              "  <thead>\n",
              "    <tr style=\"text-align: right;\">\n",
              "      <th></th>\n",
              "      <th>meta_col</th>\n",
              "      <th>class_in_meta_col</th>\n",
              "      <th>pos</th>\n",
              "      <th>neg</th>\n",
              "      <th>pos_freq</th>\n",
              "      <th>clf_pos_freq</th>\n",
              "      <th>proportional_error_freq</th>\n",
              "      <th>proportional_error_abs</th>\n",
              "      <th>proportional_error_p</th>\n",
              "    </tr>\n",
              "  </thead>\n",
              "  <tbody>\n",
              "    <tr>\n",
              "      <th>736</th>\n",
              "      <td>domain</td>\n",
              "      <td>https://trustpilot.com/review/yodel.com</td>\n",
              "      <td>1.0</td>\n",
              "      <td>57.0</td>\n",
              "      <td>0.017241</td>\n",
              "      <td>0.068966</td>\n",
              "      <td>-0.051724</td>\n",
              "      <td>-3.0</td>\n",
              "      <td>-3.000000</td>\n",
              "    </tr>\n",
              "    <tr>\n",
              "      <th>836</th>\n",
              "      <td>domain</td>\n",
              "      <td>https://trustpilot.com/review/www.expedia.com</td>\n",
              "      <td>5.0</td>\n",
              "      <td>77.0</td>\n",
              "      <td>0.060976</td>\n",
              "      <td>0.121951</td>\n",
              "      <td>-0.060976</td>\n",
              "      <td>-5.0</td>\n",
              "      <td>-1.000000</td>\n",
              "    </tr>\n",
              "    <tr>\n",
              "      <th>945</th>\n",
              "      <td>domain</td>\n",
              "      <td>https://trustpilot.com/review/www.fedex.com</td>\n",
              "      <td>7.0</td>\n",
              "      <td>70.0</td>\n",
              "      <td>0.090909</td>\n",
              "      <td>0.181818</td>\n",
              "      <td>-0.090909</td>\n",
              "      <td>-7.0</td>\n",
              "      <td>-1.000000</td>\n",
              "    </tr>\n",
              "    <tr>\n",
              "      <th>811</th>\n",
              "      <td>domain</td>\n",
              "      <td>https://trustpilot.com/review/www.facebook.com</td>\n",
              "      <td>33.0</td>\n",
              "      <td>28.0</td>\n",
              "      <td>0.540984</td>\n",
              "      <td>0.770492</td>\n",
              "      <td>-0.229508</td>\n",
              "      <td>-14.0</td>\n",
              "      <td>-0.424242</td>\n",
              "    </tr>\n",
              "    <tr>\n",
              "      <th>474</th>\n",
              "      <td>domain</td>\n",
              "      <td>https://trustpilot.com/review/www.airbnb.com</td>\n",
              "      <td>16.0</td>\n",
              "      <td>89.0</td>\n",
              "      <td>0.152381</td>\n",
              "      <td>0.209524</td>\n",
              "      <td>-0.057143</td>\n",
              "      <td>-6.0</td>\n",
              "      <td>-0.375000</td>\n",
              "    </tr>\n",
              "    <tr>\n",
              "      <th>...</th>\n",
              "      <td>...</td>\n",
              "      <td>...</td>\n",
              "      <td>...</td>\n",
              "      <td>...</td>\n",
              "      <td>...</td>\n",
              "      <td>...</td>\n",
              "      <td>...</td>\n",
              "      <td>...</td>\n",
              "      <td>...</td>\n",
              "    </tr>\n",
              "    <tr>\n",
              "      <th>1001</th>\n",
              "      <td>domain</td>\n",
              "      <td>https://trustpilot.com/review/trugreen.com</td>\n",
              "      <td>40.0</td>\n",
              "      <td>16.0</td>\n",
              "      <td>0.714286</td>\n",
              "      <td>0.642857</td>\n",
              "      <td>0.071429</td>\n",
              "      <td>4.0</td>\n",
              "      <td>0.100000</td>\n",
              "    </tr>\n",
              "    <tr>\n",
              "      <th>964</th>\n",
              "      <td>domain</td>\n",
              "      <td>https://trustpilot.com/review/www.economycarre...</td>\n",
              "      <td>125.0</td>\n",
              "      <td>33.0</td>\n",
              "      <td>0.791139</td>\n",
              "      <td>0.708861</td>\n",
              "      <td>0.082278</td>\n",
              "      <td>13.0</td>\n",
              "      <td>0.104000</td>\n",
              "    </tr>\n",
              "    <tr>\n",
              "      <th>992</th>\n",
              "      <td>domain</td>\n",
              "      <td>https://trustpilot.com/review/www.tripadvisor.com</td>\n",
              "      <td>54.0</td>\n",
              "      <td>10.0</td>\n",
              "      <td>0.843750</td>\n",
              "      <td>0.750000</td>\n",
              "      <td>0.093750</td>\n",
              "      <td>6.0</td>\n",
              "      <td>0.111111</td>\n",
              "    </tr>\n",
              "    <tr>\n",
              "      <th>901</th>\n",
              "      <td>domain</td>\n",
              "      <td>https://trustpilot.com/review/foxpaw.com</td>\n",
              "      <td>86.0</td>\n",
              "      <td>14.0</td>\n",
              "      <td>0.860000</td>\n",
              "      <td>0.750000</td>\n",
              "      <td>0.110000</td>\n",
              "      <td>11.0</td>\n",
              "      <td>0.127907</td>\n",
              "    </tr>\n",
              "    <tr>\n",
              "      <th>319</th>\n",
              "      <td>Locality</td>\n",
              "      <td>O'Fallon, MO</td>\n",
              "      <td>86.0</td>\n",
              "      <td>14.0</td>\n",
              "      <td>0.860000</td>\n",
              "      <td>0.750000</td>\n",
              "      <td>0.110000</td>\n",
              "      <td>11.0</td>\n",
              "      <td>0.127907</td>\n",
              "    </tr>\n",
              "  </tbody>\n",
              "</table>\n",
              "<p>1122 rows × 9 columns</p>\n",
              "</div>"
            ],
            "text/plain": [
              "      meta_col  ... proportional_error_p\n",
              "736     domain  ...            -3.000000\n",
              "836     domain  ...            -1.000000\n",
              "945     domain  ...            -1.000000\n",
              "811     domain  ...            -0.424242\n",
              "474     domain  ...            -0.375000\n",
              "...        ...  ...                  ...\n",
              "1001    domain  ...             0.100000\n",
              "964     domain  ...             0.104000\n",
              "992     domain  ...             0.111111\n",
              "901     domain  ...             0.127907\n",
              "319   Locality  ...             0.127907\n",
              "\n",
              "[1122 rows x 9 columns]"
            ]
          },
          "metadata": {
            "tags": []
          },
          "execution_count": 65
        }
      ]
    },
    {
      "cell_type": "code",
      "metadata": {
        "id": "TgJqsWooTfuK",
        "colab_type": "code",
        "outputId": "c1f68dc4-e6d6-404d-b590-6852b0b86711",
        "colab": {
          "base_uri": "https://localhost:8080/",
          "height": 521
        }
      },
      "source": [
        "import numpy as np\n",
        "import sklearn.metrics\n",
        "\n",
        "for c in meta_cols:\n",
        "  diff_bias_temp = diff_bias[diff_bias['meta_col']==c]\n",
        "  print(\"For metadata column '{}' \".format(c))\n",
        "  print('Pearson r: %.4f'%np.corrcoef(diff_bias_temp['pos_freq'],diff_bias_temp.clf_pos_freq)[0][1])\n",
        "  print('RMSD freq: %.4f'%sklearn.metrics.mean_squared_error(diff_bias_temp.pos_freq, diff_bias_temp.clf_pos_freq))\n",
        "  print('RMSD abs: %.4f'%sklearn.metrics.mean_squared_error(diff_bias_temp.pos, diff_bias_temp.tp + diff_bias_temp.fp))\n",
        "  print(\"\\n\")\n"
      ],
      "execution_count": 0,
      "outputs": [
        {
          "output_type": "stream",
          "text": [
            "For metadata column 'Sex' \n",
            "Pearson r: 1.0000\n",
            "RMSD freq: 0.0000\n",
            "RMSD abs: 16928.0000\n",
            "\n",
            "\n",
            "For metadata column 'Ethnicity' \n",
            "Pearson r: 0.9309\n",
            "RMSD freq: 0.0002\n",
            "RMSD abs: 3410.1250\n",
            "\n",
            "\n",
            "For metadata column 'Category' \n",
            "Pearson r: 0.9782\n",
            "RMSD freq: 0.0003\n",
            "RMSD abs: 7678.7308\n",
            "\n",
            "\n",
            "For metadata column 'Locality' \n",
            "Pearson r: 0.9387\n",
            "RMSD freq: 0.0010\n",
            "RMSD abs: 108.6715\n",
            "\n",
            "\n",
            "For metadata column 'domain' \n",
            "Pearson r: 0.9614\n",
            "RMSD freq: 0.0013\n",
            "RMSD abs: 138.9940\n",
            "\n",
            "\n"
          ],
          "name": "stdout"
        }
      ]
    },
    {
      "cell_type": "markdown",
      "metadata": {
        "id": "xp2dCyuwrokx",
        "colab_type": "text"
      },
      "source": [
        "# 2\n",
        "\n",
        "Plot the relationship between the number of training examples and the individual error in the proportion estimate of each group defined by each of the metadata columns. E.g. the specific error in the estimate of positive reviews for muslims. Let the individual error be defined as follows:\n",
        "\n",
        "$\\frac{\\widehat{P}(D=1)-P(D=1)}{P(D=1)}$, i.e. normalize the difference between the predicted proportions and the true proportions normalized by the true proportions. Let the x-axis be on a logarithmic scale to better see the relation."
      ]
    },
    {
      "cell_type": "code",
      "metadata": {
        "id": "p8bT4h9jXP0n",
        "colab_type": "code",
        "outputId": "9af7d837-1251-42c5-d083-ecc9ab29d8f5",
        "colab": {
          "base_uri": "https://localhost:8080/",
          "height": 420
        }
      },
      "source": [
        "# Since the meta columns 'locality' and 'domain' have too many classes, so I filter them out\n",
        "# diff_bias_sub = diff_bias[diff_bias.meta_col.isin(meta_cols_sub)]\n",
        "  # ***BUT MAYBE FOR EXAM PURPOSE, I SHOULD NOT FILTER THEM...?!***\n",
        "\n",
        "print(\"Value counts of n_train \\n\", diff_bias['n_train'].value_counts())\n",
        "print(\"\\n Dist of n_train \\n\", diff_bias['n_train'].describe())\n",
        "\n",
        "# I see that there are significant # of classes where n_train = {0,1}, when I don't apply sub filter\n",
        "# This is problematic when transforming to the log scale; 0 will not appear, and 1 will be zero.\n"
      ],
      "execution_count": 0,
      "outputs": [
        {
          "output_type": "stream",
          "text": [
            "Value counts of n_train \n",
            " 17     40\n",
            "24     38\n",
            "20     33\n",
            "19     33\n",
            "18     32\n",
            "       ..\n",
            "199     1\n",
            "195     1\n",
            "191     1\n",
            "188     1\n",
            "4       1\n",
            "Name: n_train, Length: 215, dtype: int64\n",
            "\n",
            " Dist of n_train \n",
            " count     1122.000000\n",
            "mean       174.287879\n",
            "std       1283.492698\n",
            "min          4.000000\n",
            "25%         19.000000\n",
            "50%         31.000000\n",
            "75%         69.000000\n",
            "max      31951.000000\n",
            "Name: n_train, dtype: float64\n"
          ],
          "name": "stdout"
        }
      ]
    },
    {
      "cell_type": "code",
      "metadata": {
        "id": "BsHi4kVcr3RA",
        "colab_type": "code",
        "outputId": "b2fa402e-4956-4387-dade-21e112a29178",
        "colab": {
          "base_uri": "https://localhost:8080/",
          "height": 1000
        }
      },
      "source": [
        "# Define the individual error\n",
        "diff_bias['indiv_error'] = (diff_bias['clf_pos_freq'] - diff_bias['pos_freq']) / diff_bias['pos_freq']\n",
        "\n",
        "print(\"\\n Dist of indiv_error \\n\" ,diff_bias['indiv_error'].describe())\n",
        "# Note: so many indiv_error is infinite, when I don't apply sub filter!\n",
        "  # Infinite values won't appear in the scattor plot below.\n",
        "  # So just transform them as 1?\n",
        "print(\"\\n Frequency counts of indiv_error \\n\" ,diff_bias['indiv_error'].value_counts())\n",
        "# 3843 groups have 0 error. 118 groups have infinite error.\n",
        "\n",
        "# Transform any values of indiv error >=1 into 1 (it should be between -1 and 1 since it's a normalized value)\n",
        "# diff_bias['indiv_error'].replace(np.inf, np.nan)\n",
        "diff_bias['indiv_error'][diff_bias['indiv_error']>=1] = 1 \n",
        "\n",
        "print(\"\\n The new dist of indiv_error \\n\" ,diff_bias['indiv_error'].describe())\n",
        "print(\"\\n The new Frequency counts of indiv_error \\n\" ,diff_bias['indiv_error'].value_counts())\n",
        "\n",
        "\n",
        "\n",
        "plt.hist(diff_bias['indiv_error'], range=[-1,1])\n",
        "plt.show()\n",
        "\n",
        "plt.scatter(diff_bias['n_train'], diff_bias['indiv_error'])\n",
        "# plt.xlim(0,100000)\n",
        "plt.ylim(-1,1)\n",
        "plt.xlabel('Number of training examples (in logs)')\n",
        "plt.ylabel('Indiv. error in the proportion estimate')\n",
        "plt.xscale('log')\n",
        "# plt.xscale('symlog')\n",
        "\n",
        "plt.title('Proportional Classification Error for each group');\n",
        "plt.savefig('q4_2.png')\n",
        "plt.show()"
      ],
      "execution_count": 0,
      "outputs": [
        {
          "output_type": "stream",
          "text": [
            "\n",
            " Dist of indiv_error \n",
            " count    1122.000000\n",
            "mean        0.007666\n",
            "std         0.109070\n",
            "min        -0.127907\n",
            "25%        -0.019231\n",
            "50%         0.000000\n",
            "75%         0.017650\n",
            "max         3.000000\n",
            "Name: indiv_error, dtype: float64\n",
            "\n",
            " Frequency counts of indiv_error \n",
            "  0.000000    146\n",
            "-0.066667      5\n",
            "-0.041667      3\n",
            "-0.043478      3\n",
            "-0.010526      3\n",
            "            ... \n",
            " 0.035088      1\n",
            " 0.070175      1\n",
            " 0.114286      1\n",
            "-0.014286      1\n",
            "-0.011765      1\n",
            "Name: indiv_error, Length: 786, dtype: int64\n",
            "\n",
            " The new dist of indiv_error \n",
            " count    1122.000000\n",
            "mean        0.005883\n",
            "std         0.069167\n",
            "min        -0.127907\n",
            "25%        -0.019231\n",
            "50%         0.000000\n",
            "75%         0.017650\n",
            "max         1.000000\n",
            "Name: indiv_error, dtype: float64\n",
            "\n",
            " The new Frequency counts of indiv_error \n",
            "  0.000000    146\n",
            "-0.066667      5\n",
            "-0.035088      3\n",
            "-0.055556      3\n",
            " 0.011905      3\n",
            "            ... \n",
            " 0.035088      1\n",
            " 0.070175      1\n",
            " 0.114286      1\n",
            "-0.014286      1\n",
            " 0.011765      1\n",
            "Name: indiv_error, Length: 785, dtype: int64\n"
          ],
          "name": "stdout"
        },
        {
          "output_type": "display_data",
          "data": {
            "image/png": "[encoded data removed]",
            "text/plain": [
              "<Figure size 432x288 with 1 Axes>"
            ]
          },
          "metadata": {
            "tags": [],
            "needs_background": "light"
          }
        },
        {
          "output_type": "display_data",
          "data": {
            "image/png": "[encoded data removed]",
            "text/plain": [
              "<Figure size 432x288 with 1 Axes>"
            ]
          },
          "metadata": {
            "tags": [],
            "needs_background": "light"
          }
        }
      ]
    },
    {
      "cell_type": "code",
      "metadata": {
        "id": "x8p-MOK6eClw",
        "colab_type": "code",
        "colab": {}
      },
      "source": [
        "from google.colab import files\n",
        "files.download('q4_2.png')"
      ],
      "execution_count": 0,
      "outputs": []
    },
    {
      "cell_type": "markdown",
      "metadata": {
        "id": "6bRJzYIFr3XL",
        "colab_type": "text"
      },
      "source": [
        "# 3\n",
        "Based on the above plots, how would you design a bias mitigation intervention"
      ]
    },
    {
      "cell_type": "code",
      "metadata": {
        "id": "gDkYmV15r3dU",
        "colab_type": "code",
        "colab": {}
      },
      "source": [
        ""
      ],
      "execution_count": 0,
      "outputs": []
    }
  ]
}